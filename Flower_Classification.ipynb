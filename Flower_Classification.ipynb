{
  "nbformat": 4,
  "nbformat_minor": 0,
  "metadata": {
    "colab": {
      "name": "Flower Classification.ipynb",
      "provenance": [],
      "collapsed_sections": []
    },
    "kernelspec": {
      "name": "python3",
      "display_name": "Python 3"
    },
    "accelerator": "GPU"
  },
  "cells": [
    {
      "cell_type": "code",
      "metadata": {
        "id": "yJzvkgBvrGqC"
      },
      "source": [
        "import os\n",
        "import seaborn as sns \n",
        "import random\n",
        "import matplotlib.pyplot as plt\n",
        "from shutil import copyfile\n",
        "import tensorflow as tf\n",
        "from tensorflow.keras.optimizers import RMSprop,Adam\n",
        "from tensorflow.keras.preprocessing.image import ImageDataGenerator\n",
        "from keras.models import Sequential"
      ],
      "execution_count": 1,
      "outputs": []
    },
    {
      "cell_type": "markdown",
      "metadata": {
        "id": "i5XPVDZFqAbb"
      },
      "source": [
        "Mounting Google Drive\n"
      ]
    },
    {
      "cell_type": "code",
      "metadata": {
        "id": "9R7MlylioRZj",
        "outputId": "eb1c948d-6a0e-48aa-f02b-4527b017a715",
        "colab": {
          "base_uri": "https://localhost:8080/",
          "height": 50
        }
      },
      "source": [
        "from google.colab import drive\n",
        "drive.mount('/content/gdrive')\n",
        "!ln -s /content/gdrive/My\\ Drive/ /mydrive\n",
        "!ls /mydrive"
      ],
      "execution_count": 2,
      "outputs": [
        {
          "output_type": "stream",
          "text": [
            "Mounted at /content/gdrive\n",
            "'Colab Notebooks'   flowers.rar  'GRE 1.pdf'  'GRE 2.pdf'  'My Drive'\n"
          ],
          "name": "stdout"
        }
      ]
    },
    {
      "cell_type": "markdown",
      "metadata": {
        "id": "SLgRFiK1qGZK"
      },
      "source": [
        "Exttracting Files on colab storage"
      ]
    },
    {
      "cell_type": "code",
      "metadata": {
        "id": "V0KH_CL9o8wt"
      },
      "source": [
        "!unrar x /mydrive/flowers.rar"
      ],
      "execution_count": null,
      "outputs": []
    },
    {
      "cell_type": "markdown",
      "metadata": {
        "id": "YkNot4HeqLtC"
      },
      "source": [
        "Getting count of images in each category"
      ]
    },
    {
      "cell_type": "code",
      "metadata": {
        "id": "_GFm3hkppO6_",
        "outputId": "49aa1692-4ab3-439d-d579-1abb5922335f",
        "colab": {
          "base_uri": "https://localhost:8080/",
          "height": 100
        }
      },
      "source": [
        "names=[]\n",
        "for folder in os.listdir('flowers'):\n",
        "  names.append(folder)\n",
        "  print(folder+': '+str(len(os.listdir('flowers/'+folder))))"
      ],
      "execution_count": 4,
      "outputs": [
        {
          "output_type": "stream",
          "text": [
            "rose: 784\n",
            "tulip: 984\n",
            "dandelion: 1055\n",
            "daisy: 769\n",
            "sunflower: 734\n"
          ],
          "name": "stdout"
        }
      ]
    },
    {
      "cell_type": "markdown",
      "metadata": {
        "id": "6uwStF6BqVG_"
      },
      "source": [
        "Preparing Train and test data"
      ]
    },
    {
      "cell_type": "code",
      "metadata": {
        "id": "Rp_hkqBxqY3I"
      },
      "source": [
        "!mkdir train\n",
        "!mkdir test"
      ],
      "execution_count": 5,
      "outputs": []
    },
    {
      "cell_type": "code",
      "metadata": {
        "id": "7qMGSJLmqgFT"
      },
      "source": [
        "for i in names:\n",
        "  os.mkdir('train/'+i)\n",
        "  os.mkdir('test/'+i) "
      ],
      "execution_count": 6,
      "outputs": []
    },
    {
      "cell_type": "markdown",
      "metadata": {
        "id": "CzZ0ueE6vHjQ"
      },
      "source": [
        "Splitting 85-15"
      ]
    },
    {
      "cell_type": "code",
      "metadata": {
        "id": "JXFTodxOtHGS"
      },
      "source": [
        "def split_data(source,train,test):\n",
        "  files= []\n",
        "  for filename in os.listdir(source):\n",
        "    file = source + filename\n",
        "    if os.path.getsize(file) > 0:\n",
        "      files.append(filename)\n",
        "    else:\n",
        "      print(filename + \" is zero length, so ignoring.\")\n",
        "\n",
        "  training_length = int(len(files) * 0.9)\n",
        "  testing_length = int(len(files) - training_length)\n",
        "  shuffled_set = random.sample(files, len(files))\n",
        "  training_set = shuffled_set[0:training_length]\n",
        "  testing_set = shuffled_set[-testing_length:]\n",
        "\n",
        "  for filename in training_set:\n",
        "    this_file = source + filename\n",
        "    destination = train + filename\n",
        "    copyfile(this_file, destination)\n",
        "\n",
        "  for filename in testing_set:\n",
        "    this_file = source + filename\n",
        "    destination = test + filename\n",
        "    copyfile(this_file, destination)\n",
        "\n",
        "  print('Done')"
      ],
      "execution_count": 7,
      "outputs": []
    },
    {
      "cell_type": "code",
      "metadata": {
        "id": "uDp3jQTvuGGK",
        "outputId": "f635b307-c4b4-4618-ea4a-6953a16f6984",
        "colab": {
          "base_uri": "https://localhost:8080/",
          "height": 100
        }
      },
      "source": [
        "for i in names:\n",
        "  split_data('flowers/'+i+'/','train/'+i+'/','test/'+i+'/')"
      ],
      "execution_count": 8,
      "outputs": [
        {
          "output_type": "stream",
          "text": [
            "Done\n",
            "Done\n",
            "Done\n",
            "Done\n",
            "Done\n"
          ],
          "name": "stdout"
        }
      ]
    },
    {
      "cell_type": "code",
      "metadata": {
        "id": "dcjRMSP8yNl5",
        "outputId": "f9bf1154-d867-46dc-f124-0e021206512c",
        "colab": {
          "base_uri": "https://localhost:8080/",
          "height": 232
        }
      },
      "source": [
        "print('Train Set')\n",
        "for folder in os.listdir('train'):\n",
        "  print(folder+': '+str(len(os.listdir('train/'+folder))))\n",
        "print()\n",
        "print('Test Set')\n",
        "for folder in os.listdir('test'):\n",
        "  print(folder+': '+str(len(os.listdir('test/'+folder))))  "
      ],
      "execution_count": 9,
      "outputs": [
        {
          "output_type": "stream",
          "text": [
            "Train Set\n",
            "rose: 705\n",
            "tulip: 885\n",
            "dandelion: 949\n",
            "daisy: 692\n",
            "sunflower: 660\n",
            "\n",
            "Test Set\n",
            "rose: 79\n",
            "tulip: 99\n",
            "dandelion: 106\n",
            "daisy: 77\n",
            "sunflower: 74\n"
          ],
          "name": "stdout"
        }
      ]
    },
    {
      "cell_type": "markdown",
      "metadata": {
        "id": "RF3WoOX_5UjW"
      },
      "source": [
        "Model Architecture"
      ]
    },
    {
      "cell_type": "code",
      "metadata": {
        "id": "4VQ-RanK5iqT"
      },
      "source": [
        "customModel1 = Sequential([\n",
        "    # The first convolution\n",
        "    tf.keras.layers.Conv2D(64, (3,3), activation='relu', input_shape=(150, 150, 3)),\n",
        "    tf.keras.layers.MaxPooling2D(2, 2),\n",
        "    # The second convolution\n",
        "    tf.keras.layers.Conv2D(64, (3,3), activation='relu'),\n",
        "    tf.keras.layers.MaxPooling2D(2,2),\n",
        "    # The third convolution\n",
        "    tf.keras.layers.Conv2D(128, (3,3), activation='relu'),\n",
        "    tf.keras.layers.MaxPooling2D(2,2),\n",
        "    # The fourth convolution\n",
        "    tf.keras.layers.Conv2D(128, (3,3), activation='relu'),\n",
        "    tf.keras.layers.MaxPooling2D(2,2),\n",
        "    # Flatten the results to feed into a DNN\n",
        "    tf.keras.layers.Flatten(),\n",
        "    tf.keras.layers.Dropout(0.5),\n",
        "    # 512 neuron hidden layer\n",
        "    tf.keras.layers.Dense(512, activation='relu'),\n",
        "    tf.keras.layers.Dense(5, activation='softmax')\n",
        "])"
      ],
      "execution_count": 10,
      "outputs": []
    },
    {
      "cell_type": "code",
      "metadata": {
        "id": "BsaZsnt_gquk",
        "outputId": "9921df33-c035-4832-f6df-30b89a392b3b",
        "colab": {
          "base_uri": "https://localhost:8080/",
          "height": 546
        }
      },
      "source": [
        "customModel1.summary()"
      ],
      "execution_count": 11,
      "outputs": [
        {
          "output_type": "stream",
          "text": [
            "Model: \"sequential\"\n",
            "_________________________________________________________________\n",
            "Layer (type)                 Output Shape              Param #   \n",
            "=================================================================\n",
            "conv2d (Conv2D)              (None, 148, 148, 64)      1792      \n",
            "_________________________________________________________________\n",
            "max_pooling2d (MaxPooling2D) (None, 74, 74, 64)        0         \n",
            "_________________________________________________________________\n",
            "conv2d_1 (Conv2D)            (None, 72, 72, 64)        36928     \n",
            "_________________________________________________________________\n",
            "max_pooling2d_1 (MaxPooling2 (None, 36, 36, 64)        0         \n",
            "_________________________________________________________________\n",
            "conv2d_2 (Conv2D)            (None, 34, 34, 128)       73856     \n",
            "_________________________________________________________________\n",
            "max_pooling2d_2 (MaxPooling2 (None, 17, 17, 128)       0         \n",
            "_________________________________________________________________\n",
            "conv2d_3 (Conv2D)            (None, 15, 15, 128)       147584    \n",
            "_________________________________________________________________\n",
            "max_pooling2d_3 (MaxPooling2 (None, 7, 7, 128)         0         \n",
            "_________________________________________________________________\n",
            "flatten (Flatten)            (None, 6272)              0         \n",
            "_________________________________________________________________\n",
            "dropout (Dropout)            (None, 6272)              0         \n",
            "_________________________________________________________________\n",
            "dense (Dense)                (None, 512)               3211776   \n",
            "_________________________________________________________________\n",
            "dense_1 (Dense)              (None, 5)                 2565      \n",
            "=================================================================\n",
            "Total params: 3,474,501\n",
            "Trainable params: 3,474,501\n",
            "Non-trainable params: 0\n",
            "_________________________________________________________________\n"
          ],
          "name": "stdout"
        }
      ]
    },
    {
      "cell_type": "markdown",
      "metadata": {
        "id": "yrY6FOf5hUDR"
      },
      "source": [
        "Data Augmentation and Feeding image through nn\n",
        "\n"
      ]
    },
    {
      "cell_type": "code",
      "metadata": {
        "id": "1eqyQseSgsz9",
        "outputId": "292cfb35-c960-4ca8-8856-281865de8913",
        "colab": {
          "base_uri": "https://localhost:8080/",
          "height": 50
        }
      },
      "source": [
        "training_datagen = ImageDataGenerator(\n",
        "      rescale = 1./255,\n",
        "\t    rotation_range=30,\n",
        "      width_shift_range=0.2,\n",
        "      height_shift_range=0.2,\n",
        "      shear_range=0.2,\n",
        "      zoom_range=0.2,\n",
        "      horizontal_flip=True,\n",
        "      fill_mode='nearest')\n",
        "\n",
        "validation_datagen = ImageDataGenerator(rescale = 1./255)\n",
        "\n",
        "train_generator = training_datagen.flow_from_directory(\n",
        "\t'train',\n",
        "\ttarget_size=(150,150),\n",
        "\tclass_mode='categorical',\n",
        "  batch_size=64\n",
        ")\n",
        "\n",
        "validation_generator = validation_datagen.flow_from_directory(\n",
        "\t'test',\n",
        "\ttarget_size=(150,150),\n",
        "\tclass_mode='categorical',\n",
        "  batch_size=64\n",
        ")"
      ],
      "execution_count": 12,
      "outputs": [
        {
          "output_type": "stream",
          "text": [
            "Found 3888 images belonging to 5 classes.\n",
            "Found 435 images belonging to 5 classes.\n"
          ],
          "name": "stdout"
        }
      ]
    },
    {
      "cell_type": "code",
      "metadata": {
        "id": "ivRjZJKUmFOL",
        "outputId": "67e7d907-9e57-4ade-e773-fac74e2f9678",
        "colab": {
          "base_uri": "https://localhost:8080/",
          "height": 1000
        }
      },
      "source": [
        "customModel1.compile(optimizer=Adam(lr=0.001),loss='categorical_crossentropy',metrics=['accuracy'])\n",
        "history=customModel1.fit(train_generator, epochs=50, steps_per_epoch=61, validation_data = validation_generator, verbose = 1, validation_steps=7)"
      ],
      "execution_count": 15,
      "outputs": [
        {
          "output_type": "stream",
          "text": [
            "Epoch 1/50\n",
            "61/61 [==============================] - 29s 473ms/step - loss: 0.9393 - accuracy: 0.6299 - val_loss: 0.8627 - val_accuracy: 0.6667\n",
            "Epoch 2/50\n",
            "61/61 [==============================] - 28s 467ms/step - loss: 0.8748 - accuracy: 0.6628 - val_loss: 0.7909 - val_accuracy: 0.6690\n",
            "Epoch 3/50\n",
            "61/61 [==============================] - 29s 472ms/step - loss: 0.8575 - accuracy: 0.6718 - val_loss: 0.7667 - val_accuracy: 0.6805\n",
            "Epoch 4/50\n",
            "61/61 [==============================] - 28s 460ms/step - loss: 0.8031 - accuracy: 0.6975 - val_loss: 0.7262 - val_accuracy: 0.7241\n",
            "Epoch 5/50\n",
            "61/61 [==============================] - 28s 466ms/step - loss: 0.7698 - accuracy: 0.7060 - val_loss: 0.7397 - val_accuracy: 0.7103\n",
            "Epoch 6/50\n",
            "61/61 [==============================] - 28s 458ms/step - loss: 0.7607 - accuracy: 0.7063 - val_loss: 0.6570 - val_accuracy: 0.7563\n",
            "Epoch 7/50\n",
            "61/61 [==============================] - 28s 462ms/step - loss: 0.7615 - accuracy: 0.7122 - val_loss: 0.6485 - val_accuracy: 0.7540\n",
            "Epoch 8/50\n",
            "61/61 [==============================] - 28s 461ms/step - loss: 0.7288 - accuracy: 0.7292 - val_loss: 0.6256 - val_accuracy: 0.7425\n",
            "Epoch 9/50\n",
            "61/61 [==============================] - 28s 452ms/step - loss: 0.7052 - accuracy: 0.7302 - val_loss: 0.6226 - val_accuracy: 0.7494\n",
            "Epoch 10/50\n",
            "61/61 [==============================] - 28s 456ms/step - loss: 0.6830 - accuracy: 0.7428 - val_loss: 0.6055 - val_accuracy: 0.7770\n",
            "Epoch 11/50\n",
            "61/61 [==============================] - 28s 452ms/step - loss: 0.6784 - accuracy: 0.7438 - val_loss: 0.5884 - val_accuracy: 0.7609\n",
            "Epoch 12/50\n",
            "61/61 [==============================] - 28s 458ms/step - loss: 0.6293 - accuracy: 0.7569 - val_loss: 0.5810 - val_accuracy: 0.7655\n",
            "Epoch 13/50\n",
            "61/61 [==============================] - 27s 450ms/step - loss: 0.6601 - accuracy: 0.7490 - val_loss: 0.6466 - val_accuracy: 0.7448\n",
            "Epoch 14/50\n",
            "61/61 [==============================] - 28s 463ms/step - loss: 0.6300 - accuracy: 0.7662 - val_loss: 0.5712 - val_accuracy: 0.7954\n",
            "Epoch 15/50\n",
            "61/61 [==============================] - 28s 457ms/step - loss: 0.5899 - accuracy: 0.7842 - val_loss: 0.5772 - val_accuracy: 0.7885\n",
            "Epoch 16/50\n",
            "61/61 [==============================] - 28s 454ms/step - loss: 0.6224 - accuracy: 0.7726 - val_loss: 0.5306 - val_accuracy: 0.8138\n",
            "Epoch 17/50\n",
            "61/61 [==============================] - 28s 457ms/step - loss: 0.5837 - accuracy: 0.7868 - val_loss: 0.6259 - val_accuracy: 0.7448\n",
            "Epoch 18/50\n",
            "61/61 [==============================] - 28s 453ms/step - loss: 0.6143 - accuracy: 0.7739 - val_loss: 0.5828 - val_accuracy: 0.7678\n",
            "Epoch 19/50\n",
            "61/61 [==============================] - 28s 458ms/step - loss: 0.5999 - accuracy: 0.7806 - val_loss: 0.5231 - val_accuracy: 0.8023\n",
            "Epoch 20/50\n",
            "61/61 [==============================] - 28s 454ms/step - loss: 0.5561 - accuracy: 0.7953 - val_loss: 0.5250 - val_accuracy: 0.8115\n",
            "Epoch 21/50\n",
            "61/61 [==============================] - 28s 451ms/step - loss: 0.5512 - accuracy: 0.7930 - val_loss: 0.5859 - val_accuracy: 0.7632\n",
            "Epoch 22/50\n",
            "61/61 [==============================] - 28s 455ms/step - loss: 0.5072 - accuracy: 0.8102 - val_loss: 0.5846 - val_accuracy: 0.7862\n",
            "Epoch 23/50\n",
            "61/61 [==============================] - 28s 453ms/step - loss: 0.5329 - accuracy: 0.7966 - val_loss: 0.5180 - val_accuracy: 0.8023\n",
            "Epoch 24/50\n",
            "61/61 [==============================] - 28s 455ms/step - loss: 0.5237 - accuracy: 0.8076 - val_loss: 0.5093 - val_accuracy: 0.8230\n",
            "Epoch 25/50\n",
            "61/61 [==============================] - 27s 442ms/step - loss: 0.5073 - accuracy: 0.8081 - val_loss: 0.5285 - val_accuracy: 0.8000\n",
            "Epoch 26/50\n",
            "61/61 [==============================] - 27s 448ms/step - loss: 0.4942 - accuracy: 0.8143 - val_loss: 0.4723 - val_accuracy: 0.8230\n",
            "Epoch 27/50\n",
            "61/61 [==============================] - 27s 445ms/step - loss: 0.5050 - accuracy: 0.8079 - val_loss: 0.4837 - val_accuracy: 0.8115\n",
            "Epoch 28/50\n",
            "61/61 [==============================] - 27s 443ms/step - loss: 0.4974 - accuracy: 0.8202 - val_loss: 0.4757 - val_accuracy: 0.8345\n",
            "Epoch 29/50\n",
            "61/61 [==============================] - 27s 449ms/step - loss: 0.4764 - accuracy: 0.8225 - val_loss: 0.5100 - val_accuracy: 0.7839\n",
            "Epoch 30/50\n",
            "61/61 [==============================] - 28s 454ms/step - loss: 0.4658 - accuracy: 0.8182 - val_loss: 0.5042 - val_accuracy: 0.8138\n",
            "Epoch 31/50\n",
            "61/61 [==============================] - 28s 452ms/step - loss: 0.4478 - accuracy: 0.8362 - val_loss: 0.5305 - val_accuracy: 0.7977\n",
            "Epoch 32/50\n",
            "61/61 [==============================] - 27s 445ms/step - loss: 0.4475 - accuracy: 0.8390 - val_loss: 0.4677 - val_accuracy: 0.8138\n",
            "Epoch 33/50\n",
            "61/61 [==============================] - 28s 452ms/step - loss: 0.4360 - accuracy: 0.8320 - val_loss: 0.4819 - val_accuracy: 0.8115\n",
            "Epoch 34/50\n",
            "61/61 [==============================] - 28s 451ms/step - loss: 0.4305 - accuracy: 0.8341 - val_loss: 0.5588 - val_accuracy: 0.8069\n",
            "Epoch 35/50\n",
            "61/61 [==============================] - 28s 460ms/step - loss: 0.4507 - accuracy: 0.8287 - val_loss: 0.5092 - val_accuracy: 0.8253\n",
            "Epoch 36/50\n",
            "61/61 [==============================] - 28s 453ms/step - loss: 0.4080 - accuracy: 0.8544 - val_loss: 0.4684 - val_accuracy: 0.8230\n",
            "Epoch 37/50\n",
            "61/61 [==============================] - 28s 453ms/step - loss: 0.4430 - accuracy: 0.8346 - val_loss: 0.5550 - val_accuracy: 0.7862\n",
            "Epoch 38/50\n",
            "61/61 [==============================] - 27s 447ms/step - loss: 0.4422 - accuracy: 0.8346 - val_loss: 0.4752 - val_accuracy: 0.8437\n",
            "Epoch 39/50\n",
            "61/61 [==============================] - 27s 449ms/step - loss: 0.4472 - accuracy: 0.8369 - val_loss: 0.5154 - val_accuracy: 0.8138\n",
            "Epoch 40/50\n",
            "61/61 [==============================] - 27s 450ms/step - loss: 0.4210 - accuracy: 0.8367 - val_loss: 0.4819 - val_accuracy: 0.8345\n",
            "Epoch 41/50\n",
            "61/61 [==============================] - 27s 447ms/step - loss: 0.4083 - accuracy: 0.8465 - val_loss: 0.4673 - val_accuracy: 0.8529\n",
            "Epoch 42/50\n",
            "61/61 [==============================] - 27s 450ms/step - loss: 0.4162 - accuracy: 0.8488 - val_loss: 0.4472 - val_accuracy: 0.8460\n",
            "Epoch 43/50\n",
            "61/61 [==============================] - 28s 451ms/step - loss: 0.3776 - accuracy: 0.8591 - val_loss: 0.4656 - val_accuracy: 0.8598\n",
            "Epoch 44/50\n",
            "61/61 [==============================] - 27s 447ms/step - loss: 0.3690 - accuracy: 0.8621 - val_loss: 0.5108 - val_accuracy: 0.8184\n",
            "Epoch 45/50\n",
            "61/61 [==============================] - 27s 447ms/step - loss: 0.4240 - accuracy: 0.8410 - val_loss: 0.4722 - val_accuracy: 0.8253\n",
            "Epoch 46/50\n",
            "61/61 [==============================] - 28s 452ms/step - loss: 0.3709 - accuracy: 0.8606 - val_loss: 0.5158 - val_accuracy: 0.8000\n",
            "Epoch 47/50\n",
            "61/61 [==============================] - 27s 448ms/step - loss: 0.3892 - accuracy: 0.8578 - val_loss: 0.4965 - val_accuracy: 0.8115\n",
            "Epoch 48/50\n",
            "61/61 [==============================] - 28s 462ms/step - loss: 0.3803 - accuracy: 0.8609 - val_loss: 0.4930 - val_accuracy: 0.8276\n",
            "Epoch 49/50\n",
            "61/61 [==============================] - 27s 446ms/step - loss: 0.3731 - accuracy: 0.8629 - val_loss: 0.4995 - val_accuracy: 0.8253\n",
            "Epoch 50/50\n",
            "61/61 [==============================] - 27s 451ms/step - loss: 0.3604 - accuracy: 0.8668 - val_loss: 0.4703 - val_accuracy: 0.8345\n"
          ],
          "name": "stdout"
        }
      ]
    },
    {
      "cell_type": "markdown",
      "metadata": {
        "id": "ZvZp0_ciF-yi"
      },
      "source": [
        "Plotting Loss and Accuracy"
      ]
    },
    {
      "cell_type": "code",
      "metadata": {
        "id": "25cft8bbGD-j",
        "outputId": "ac94291e-1a25-4b3d-dbb8-34abca9b36db",
        "colab": {
          "base_uri": "https://localhost:8080/",
          "height": 295
        }
      },
      "source": [
        "plt.plot(history.history['loss'])\n",
        "plt.plot(history.history['val_loss'])\n",
        "plt.title('Model Loss')\n",
        "plt.ylabel('Loss')\n",
        "plt.xlabel('Epochs')\n",
        "plt.legend(['train', 'test'])\n",
        "plt.show()"
      ],
      "execution_count": 16,
      "outputs": [
        {
          "output_type": "display_data",
          "data": {
            "image/png": "[encoded data removed]",
            "text/plain": [
              "<Figure size 432x288 with 1 Axes>"
            ]
          },
          "metadata": {
            "tags": [],
            "needs_background": "light"
          }
        }
      ]
    },
    {
      "cell_type": "code",
      "metadata": {
        "id": "T21GiBMYGd2n",
        "outputId": "27d39eed-36bb-4a2f-8dba-0a4258804339",
        "colab": {
          "base_uri": "https://localhost:8080/",
          "height": 295
        }
      },
      "source": [
        "plt.plot(history.history['accuracy'])\n",
        "plt.plot(history.history['val_accuracy'])\n",
        "plt.title('Model Accuracy')\n",
        "plt.ylabel('Accuracy')\n",
        "plt.xlabel('Epochs')\n",
        "plt.legend(['train', 'test'])\n",
        "plt.show()"
      ],
      "execution_count": 18,
      "outputs": [
        {
          "output_type": "display_data",
          "data": {
            "image/png": "[encoded data removed]",
            "text/plain": [
              "<Figure size 432x288 with 1 Axes>"
            ]
          },
          "metadata": {
            "tags": [],
            "needs_background": "light"
          }
        }
      ]
    }
  ]
}